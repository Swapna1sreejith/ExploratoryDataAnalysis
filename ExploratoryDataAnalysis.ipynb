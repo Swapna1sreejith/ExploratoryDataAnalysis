{
 "cells": [
  {
   "cell_type": "markdown",
   "id": "a315bcaa-ab19-4885-b610-51198ebe1fd3",
   "metadata": {},
   "source": [
    "# <u> EXPLORATORY DATA ANALYSIS </u>"
   ]
  },
  {
   "cell_type": "markdown",
   "id": "a38aba4f-7041-411a-9d58-712bd1a2f905",
   "metadata": {},
   "source": [
    "This is a project for analysing the dataset from ABC company , consisting of 458 rows and 9 columns. The company requires a comprehensive report detailing information about their employees across various teams."
   ]
  },
  {
   "cell_type": "markdown",
   "id": "ca9700ba-c113-4b0b-93c5-11835fd00bc4",
   "metadata": {},
   "source": [
    "### <u> Importing all needed libraries</u>"
   ]
  },
  {
   "cell_type": "code",
   "execution_count": 28,
   "id": "2ce1eb71-9d14-4aab-bce5-2b6d2f386d3b",
   "metadata": {},
   "outputs": [],
   "source": [
    "import pandas as pd\n",
    "import numpy as np\n",
    "import matplotlib.pyplot as plt\n",
    "import seaborn as sns"
   ]
  },
  {
   "cell_type": "markdown",
   "id": "4d1964be-5c48-4c92-898e-92d269208762",
   "metadata": {},
   "source": [
    "### <u>Reading data from CSV file</u>"
   ]
  },
  {
   "cell_type": "code",
   "execution_count": 29,
   "id": "e32de96c-69d3-4fa7-b0c2-a18a9f101e57",
   "metadata": {},
   "outputs": [
    {
     "name": "stdout",
     "output_type": "stream",
     "text": [
      "            Name            Team  Number Position  Age  Height  Weight  \\\n",
      "0  Avery Bradley  Boston Celtics       0       PG   25  06-Feb     180   \n",
      "1    Jae Crowder  Boston Celtics      99       SF   25  06-Jun     235   \n",
      "2   John Holland  Boston Celtics      30       SG   27  06-May     205   \n",
      "3    R.J. Hunter  Boston Celtics      28       SG   22  06-May     185   \n",
      "4  Jonas Jerebko  Boston Celtics       8       PF   29  06-Oct     231   \n",
      "\n",
      "             College     Salary  \n",
      "0              Texas  7730337.0  \n",
      "1          Marquette  6796117.0  \n",
      "2  Boston University        NaN  \n",
      "3      Georgia State  1148640.0  \n",
      "4                NaN  5000000.0  \n"
     ]
    }
   ],
   "source": [
    "dataset = pd.read_csv('myexcel - myexcel.csv.csv')\n",
    "print(dataset.head())"
   ]
  },
  {
   "cell_type": "code",
   "execution_count": 30,
   "id": "d37c62e6-e5e2-4ba9-80be-c8295eb43596",
   "metadata": {},
   "outputs": [
    {
     "name": "stdout",
     "output_type": "stream",
     "text": [
      "             Name       Team  Number Position  Age  Height  Weight College  \\\n",
      "453  Shelvin Mack  Utah Jazz       8       PG   26  06-Mar     203  Butler   \n",
      "454     Raul Neto  Utah Jazz      25       PG   24  06-Jan     179     NaN   \n",
      "455  Tibor Pleiss  Utah Jazz      21        C   26  07-Mar     256     NaN   \n",
      "456   Jeff Withey  Utah Jazz      24        C   26     7-0     231  Kansas   \n",
      "457      Priyanka  Utah Jazz      34        C   25  07-Mar     231  Kansas   \n",
      "\n",
      "        Salary  \n",
      "453  2433333.0  \n",
      "454   900000.0  \n",
      "455  2900000.0  \n",
      "456   947276.0  \n",
      "457   947276.0  \n"
     ]
    }
   ],
   "source": [
    "print(dataset.tail())"
   ]
  },
  {
   "cell_type": "markdown",
   "id": "1b3a6c9a-07bb-441f-981f-bb36cd4c24d2",
   "metadata": {},
   "source": [
    "### <u>Preprocessing of data</u>"
   ]
  },
  {
   "cell_type": "code",
   "execution_count": 31,
   "id": "f9b4e6dc-ee45-4fd5-8433-2ce7830e5e8a",
   "metadata": {},
   "outputs": [
    {
     "data": {
      "text/plain": [
       "Name         0\n",
       "Team         0\n",
       "Number       0\n",
       "Position     0\n",
       "Age          0\n",
       "Height       0\n",
       "Weight       0\n",
       "College     84\n",
       "Salary      11\n",
       "dtype: int64"
      ]
     },
     "execution_count": 31,
     "metadata": {},
     "output_type": "execute_result"
    }
   ],
   "source": [
    "dataset.isnull().sum()"
   ]
  },
  {
   "cell_type": "code",
   "execution_count": 32,
   "id": "53db1ac1-2095-4246-aaff-e88bc4c4b4f2",
   "metadata": {},
   "outputs": [
    {
     "name": "stdout",
     "output_type": "stream",
     "text": [
      "              Name            Team  Number Position  Age  Height  Weight  \\\n",
      "0    Avery Bradley  Boston Celtics       0       PG   25  06-Feb     180   \n",
      "1      Jae Crowder  Boston Celtics      99       SF   25  06-Jun     235   \n",
      "2     John Holland  Boston Celtics      30       SG   27  06-May     205   \n",
      "3      R.J. Hunter  Boston Celtics      28       SG   22  06-May     185   \n",
      "4    Jonas Jerebko  Boston Celtics       8       PF   29  06-Oct     231   \n",
      "..             ...             ...     ...      ...  ...     ...     ...   \n",
      "453   Shelvin Mack       Utah Jazz       8       PG   26  06-Mar     203   \n",
      "454      Raul Neto       Utah Jazz      25       PG   24  06-Jan     179   \n",
      "455   Tibor Pleiss       Utah Jazz      21        C   26  07-Mar     256   \n",
      "456    Jeff Withey       Utah Jazz      24        C   26     7-0     231   \n",
      "457       Priyanka       Utah Jazz      34        C   25  07-Mar     231   \n",
      "\n",
      "               College        Salary  \n",
      "0                Texas  7.730337e+06  \n",
      "1            Marquette  6.796117e+06  \n",
      "2    Boston University  4.833970e+06  \n",
      "3        Georgia State  1.148640e+06  \n",
      "4                  NaN  5.000000e+06  \n",
      "..                 ...           ...  \n",
      "453             Butler  2.433333e+06  \n",
      "454                NaN  9.000000e+05  \n",
      "455                NaN  2.900000e+06  \n",
      "456             Kansas  9.472760e+05  \n",
      "457             Kansas  9.472760e+05  \n",
      "\n",
      "[458 rows x 9 columns]\n"
     ]
    }
   ],
   "source": [
    "avg=dataset['Salary'].mean()\n",
    "dataset.fillna({'Salary':avg},inplace = True)\n",
    "print(dataset)"
   ]
  },
  {
   "cell_type": "code",
   "execution_count": 33,
   "id": "37ca3026-21bd-40a0-b1c5-6c8802a35e30",
   "metadata": {},
   "outputs": [
    {
     "name": "stdout",
     "output_type": "stream",
     "text": [
      "              Name            Team  Number Position  Age  Height  Weight  \\\n",
      "0    Avery Bradley  Boston Celtics       0       PG   25  06-Feb     180   \n",
      "1      Jae Crowder  Boston Celtics      99       SF   25  06-Jun     235   \n",
      "2     John Holland  Boston Celtics      30       SG   27  06-May     205   \n",
      "3      R.J. Hunter  Boston Celtics      28       SG   22  06-May     185   \n",
      "4    Jonas Jerebko  Boston Celtics       8       PF   29  06-Oct     231   \n",
      "..             ...             ...     ...      ...  ...     ...     ...   \n",
      "453   Shelvin Mack       Utah Jazz       8       PG   26  06-Mar     203   \n",
      "454      Raul Neto       Utah Jazz      25       PG   24  06-Jan     179   \n",
      "455   Tibor Pleiss       Utah Jazz      21        C   26  07-Mar     256   \n",
      "456    Jeff Withey       Utah Jazz      24        C   26     7-0     231   \n",
      "457       Priyanka       Utah Jazz      34        C   25  07-Mar     231   \n",
      "\n",
      "               College        Salary  \n",
      "0                Texas  7.730337e+06  \n",
      "1            Marquette  6.796117e+06  \n",
      "2    Boston University  4.833970e+06  \n",
      "3        Georgia State  1.148640e+06  \n",
      "4                  NaN  5.000000e+06  \n",
      "..                 ...           ...  \n",
      "453             Butler  2.433333e+06  \n",
      "454                NaN  9.000000e+05  \n",
      "455                NaN  2.900000e+06  \n",
      "456             Kansas  9.472760e+05  \n",
      "457             Kansas  9.472760e+05  \n",
      "\n",
      "[458 rows x 9 columns]\n"
     ]
    }
   ],
   "source": [
    "dataset.drop_duplicates(inplace = True)\n",
    "print(dataset)"
   ]
  },
  {
   "cell_type": "code",
   "execution_count": 34,
   "id": "ff1a1125-4800-4686-a0cb-e249961206ef",
   "metadata": {},
   "outputs": [
    {
     "data": {
      "text/plain": [
       "Name        0\n",
       "Team        0\n",
       "Number      0\n",
       "Position    0\n",
       "Age         0\n",
       "Height      0\n",
       "Weight      0\n",
       "College     0\n",
       "Salary      0\n",
       "dtype: int64"
      ]
     },
     "execution_count": 34,
     "metadata": {},
     "output_type": "execute_result"
    }
   ],
   "source": [
    "dataset.dropna ( inplace = True)\n",
    "dataset.isnull().sum()"
   ]
  },
  {
   "cell_type": "code",
   "execution_count": 35,
   "id": "841afc1e-f401-45bd-924b-d5049e33a159",
   "metadata": {},
   "outputs": [
    {
     "name": "stdout",
     "output_type": "stream",
     "text": [
      "              Name            Team  Number Position  Age      Height  Weight  \\\n",
      "0    Avery Bradley  Boston Celtics       0       PG   25  153.389528     180   \n",
      "1      Jae Crowder  Boston Celtics      99       SF   25  160.773179     235   \n",
      "2     John Holland  Boston Celtics      30       SG   27  170.574159     205   \n",
      "3      R.J. Hunter  Boston Celtics      28       SG   22  150.521512     185   \n",
      "6    Jordan Mickey  Boston Celtics      55       PF   21  164.644970     235   \n",
      "..             ...             ...     ...      ...  ...         ...     ...   \n",
      "451  Chris Johnson       Utah Jazz      23       SF   26  152.797437     206   \n",
      "452     Trey Lyles       Utah Jazz      41       PF   20  151.650823     234   \n",
      "453   Shelvin Mack       Utah Jazz       8       PG   26  167.154810     203   \n",
      "456    Jeff Withey       Utah Jazz      24        C   26  160.230681     231   \n",
      "457       Priyanka       Utah Jazz      34        C   25  171.864962     231   \n",
      "\n",
      "               College        Salary  \n",
      "0                Texas  7.730337e+06  \n",
      "1            Marquette  6.796117e+06  \n",
      "2    Boston University  4.833970e+06  \n",
      "3        Georgia State  1.148640e+06  \n",
      "6                  LSU  1.170960e+06  \n",
      "..                 ...           ...  \n",
      "451             Dayton  9.813480e+05  \n",
      "452           Kentucky  2.239800e+06  \n",
      "453             Butler  2.433333e+06  \n",
      "456             Kansas  9.472760e+05  \n",
      "457             Kansas  9.472760e+05  \n",
      "\n",
      "[374 rows x 9 columns]\n"
     ]
    }
   ],
   "source": [
    "dataset['Height'] = np.random.uniform(150,180,size = len(data))\n",
    "print(dataset)"
   ]
  },
  {
   "cell_type": "markdown",
   "id": "f39eebb1-f7b0-4e01-962c-992663bc15d1",
   "metadata": {},
   "source": [
    "## <u>Data analysis tasks</u>"
   ]
  },
  {
   "cell_type": "markdown",
   "id": "392f5172-fcca-4bd7-9ae4-90c8262c6375",
   "metadata": {},
   "source": [
    "1.<u> **Determining the distribution of employees across each team and calculate the percentage split relative to the total number of employees.** </u>"
   ]
  },
  {
   "cell_type": "markdown",
   "id": "d2c48ed5-6baf-4ffc-a8c0-ef4e76e87185",
   "metadata": {},
   "source": [
    "  <u> Number of members in each team :-<u/>"
   ]
  },
  {
   "cell_type": "code",
   "execution_count": 66,
   "id": "d378d162-3065-4982-b8c1-8e72cd73a4e6",
   "metadata": {},
   "outputs": [
    {
     "name": "stdout",
     "output_type": "stream",
     "text": [
      "Team\n",
      "Memphis Grizzlies         17\n",
      "New Orleans Pelicans      16\n",
      "Portland Trail Blazers    15\n",
      "Philadelphia 76ers        15\n",
      "Detroit Pistons           15\n",
      "Milwaukee Bucks           14\n",
      "Oklahoma City Thunder     14\n",
      "Los Angeles Clippers      14\n",
      "Boston Celtics            13\n",
      "Washington Wizards        13\n",
      "Charlotte Hornets         13\n",
      "Phoenix Suns              13\n",
      "Sacramento Kings          13\n",
      "Brooklyn Nets             13\n",
      "Dallas Mavericks          12\n",
      "Indiana Pacers            12\n",
      "Cleveland Cavaliers       12\n",
      "Chicago Bulls             12\n",
      "Los Angeles Lakers        12\n",
      "Golden State Warriors     12\n",
      "Houston Rockets           11\n",
      "San Antonio Spurs         11\n",
      "Atlanta Hawks             11\n",
      "Miami Heat                11\n",
      "New York Knicks           11\n",
      "Utah Jazz                 11\n",
      "Orlando Magic             10\n",
      "Toronto Raptors           10\n",
      "Denver Nuggets             9\n",
      "Minnesota Timberwolves     9\n",
      "Name: count, dtype: int64\n"
     ]
    }
   ],
   "source": [
    "a = dataset['Team'].value_counts()\n",
    "print(a)"
   ]
  },
  {
   "cell_type": "markdown",
   "id": "3ac3a6d2-46f7-4ebc-b3ec-7b7b02007065",
   "metadata": {},
   "source": [
    "***Visual representation of total number of team members***"
   ]
  },
  {
   "cell_type": "code",
   "execution_count": 69,
   "id": "bd80d309-90b3-472c-9577-16107aa55b95",
   "metadata": {},
   "outputs": [
    {
     "name": "stdout",
     "output_type": "stream",
     "text": [
      "0      Boston Celtics\n",
      "1      Boston Celtics\n",
      "2      Boston Celtics\n",
      "3      Boston Celtics\n",
      "6      Boston Celtics\n",
      "            ...      \n",
      "451         Utah Jazz\n",
      "452         Utah Jazz\n",
      "453         Utah Jazz\n",
      "456         Utah Jazz\n",
      "457         Utah Jazz\n",
      "Name: Team, Length: 374, dtype: object\n"
     ]
    }
   ],
   "source": [
    "x=a\n",
    "y=dataset['Team']\n",
    "print(y)\n",
    "#plt.bar(x,y)\n",
    "#plt.show()"
   ]
  },
  {
   "cell_type": "markdown",
   "id": "536bf259-7480-4e70-99af-b3071ee767dd",
   "metadata": {},
   "source": [
    "<u> Percentage splitting of team members:-</u>"
   ]
  },
  {
   "cell_type": "code",
   "execution_count": 38,
   "id": "8a607cb1-1c6e-4178-acb3-29fdd33b5825",
   "metadata": {},
   "outputs": [
    {
     "data": {
      "text/plain": [
       "Team\n",
       "Memphis Grizzlies         4.545455\n",
       "New Orleans Pelicans      4.278075\n",
       "Portland Trail Blazers    4.010695\n",
       "Philadelphia 76ers        4.010695\n",
       "Detroit Pistons           4.010695\n",
       "Milwaukee Bucks           3.743316\n",
       "Oklahoma City Thunder     3.743316\n",
       "Los Angeles Clippers      3.743316\n",
       "Boston Celtics            3.475936\n",
       "Washington Wizards        3.475936\n",
       "Charlotte Hornets         3.475936\n",
       "Phoenix Suns              3.475936\n",
       "Sacramento Kings          3.475936\n",
       "Brooklyn Nets             3.475936\n",
       "Dallas Mavericks          3.208556\n",
       "Indiana Pacers            3.208556\n",
       "Cleveland Cavaliers       3.208556\n",
       "Chicago Bulls             3.208556\n",
       "Los Angeles Lakers        3.208556\n",
       "Golden State Warriors     3.208556\n",
       "Houston Rockets           2.941176\n",
       "San Antonio Spurs         2.941176\n",
       "Atlanta Hawks             2.941176\n",
       "Miami Heat                2.941176\n",
       "New York Knicks           2.941176\n",
       "Utah Jazz                 2.941176\n",
       "Orlando Magic             2.673797\n",
       "Toronto Raptors           2.673797\n",
       "Denver Nuggets            2.406417\n",
       "Minnesota Timberwolves    2.406417\n",
       "Name: count, dtype: float64"
      ]
     },
     "execution_count": 38,
     "metadata": {},
     "output_type": "execute_result"
    }
   ],
   "source": [
    "dataset['Team'].value_counts()/len(dataset)*100"
   ]
  },
  {
   "cell_type": "markdown",
   "id": "e3d91745-3d9e-4fd2-b810-20d511d7246c",
   "metadata": {},
   "source": [
    "***Visual representation of percentage split of employees***"
   ]
  },
  {
   "cell_type": "code",
   "execution_count": null,
   "id": "a65108af-ab2a-46b0-86ea-4c0d11c8da41",
   "metadata": {},
   "outputs": [],
   "source": []
  },
  {
   "cell_type": "markdown",
   "id": "3e349b44-a31b-4747-916f-4fc039fafd48",
   "metadata": {},
   "source": [
    "2. <u> **Segregate employees based on their positions within the company.**</u>"
   ]
  },
  {
   "cell_type": "code",
   "execution_count": 45,
   "id": "bb566b0a-77ef-4aef-a327-2205be4cd636",
   "metadata": {},
   "outputs": [
    {
     "name": "stdout",
     "output_type": "stream",
     "text": [
      "Employees in  C position :\n",
      "\t\n",
      "Kelly Olynyk\n",
      "Jared Sullinger\n",
      "Tyler Zeller\n",
      "Brook Lopez\n",
      "Henry Sims\n",
      "Robin Lopez\n",
      "Joel Embiid\n",
      "Jahlil Okafor\n",
      "Andrew Bogut\n",
      "Festus Ezeli\n",
      "Marreese Speights\n",
      "Cole Aldrich\n",
      "DeAndre Jordan\n",
      "Tarik Black\n",
      "Roy Hibbert\n",
      "Robert Sacre\n",
      "Alex Len\n",
      "Alan Williams\n",
      "Willie Cauley-Stein\n",
      "DeMarcus Cousins\n",
      "Kosta Koufos\n",
      "Joakim Noah\n",
      "Sasha Kaun\n",
      "Tristan Thompson\n",
      "Joel Anthony\n",
      "Aron Baynes\n",
      "Andre Drummond\n",
      "Jordan Hill\n",
      "Greg Monroe\n",
      "Miles Plumlee\n",
      "JaVale McGee\n",
      "Matt Bonner\n",
      "Tim Duncan\n",
      "Al Horford\n",
      "Frank Kaminsky III\n",
      "Cody Zeller\n",
      "Hassan Whiteside\n",
      "Dewayne Dedmon\n",
      "Nikola Vucevic\n",
      "JJ Hickson\n",
      "Gorgui Dieng\n",
      "Karl-Anthony Towns\n",
      "Steven Adams\n",
      "Enes Kanter\n",
      "Nazr Mohammed\n",
      "Ed Davis\n",
      "Chris Kaman\n",
      "Mason Plumlee\n",
      "Jeff Withey\n",
      "Priyanka\n",
      "\n",
      "\n",
      "Employees in  PF position :\n",
      "\t\n",
      "Jordan Mickey\n",
      "Chris McCullough\n",
      "Willie Reed\n",
      "Thomas Robinson\n",
      "Thaddeus Young\n",
      "Lou Amundson\n",
      "Kyle O'Quinn\n",
      "Derrick Williams\n",
      "Elton Brand\n",
      "Richaun Holmes\n",
      "Carl Landry\n",
      "Nerlens Noel\n",
      "Christian Wood\n",
      "James Johnson\n",
      "Patrick Patterson\n",
      "Jason Thompson\n",
      "Draymond Green\n",
      "Jeff Ayres\n",
      "Blake Griffin\n",
      "Luc Richard Mbah a Moute\n",
      "Brandon Bass\n",
      "Ryan Kelly\n",
      "Larry Nance Jr.\n",
      "Julius Randle\n",
      "Jon Leuer\n",
      "Duje Dukan\n",
      "Eric Moreland\n",
      "Cameron Bairstow\n",
      "Taj Gibson\n",
      "Bobby Portis\n",
      "Channing Frye\n",
      "Kevin Love\n",
      "Marcus Morris\n",
      "Anthony Tolliver\n",
      "Lavoy Allen\n",
      "Rakeem Christmas\n",
      "Myles Turner\n",
      "Shayne Whittington\n",
      "John Henson\n",
      "Johnny O'Bryant III\n",
      "Jabari Parker\n",
      "David Lee\n",
      "Dwight Powell\n",
      "Charlie Villanueva\n",
      "Montrezl Harrell\n",
      "Terrence Jones\n",
      "Chris Andersen\n",
      "JaMychal Green\n",
      "Jarell Martin\n",
      "Zach Randolph\n",
      "Alex Stepheson\n",
      "Brandan Wright\n",
      "Ryan Anderson\n",
      "Dante Cunningham\n",
      "Anthony Davis\n",
      "LaMarcus Aldridge\n",
      "David West\n",
      "Kris Humphries\n",
      "Paul Millsap\n",
      "Mike Muscala\n",
      "Mike Scott\n",
      "Tyler Hansbrough\n",
      "Spencer Hawes\n",
      "Marvin Williams\n",
      "Chris Bosh\n",
      "Udonis Haslem\n",
      "Josh McRoberts\n",
      "Aaron Gordon\n",
      "Andrew Nicholson\n",
      "Jason Smith\n",
      "Drew Gooden\n",
      "Markieff Morris\n",
      "Darrell Arthur\n",
      "Kenneth Faried\n",
      "Adreian Payne\n",
      "Greg Smith\n",
      "Nick Collison\n",
      "Mitch McGary\n",
      "Cliff Alexander\n",
      "Meyers Leonard\n",
      "Noah Vonleh\n",
      "Trevor Booker\n",
      "Derrick Favors\n",
      "Trey Lyles\n",
      "\n",
      "\n",
      "Employees in  PG position :\n",
      "\t\n",
      "Avery Bradley\n",
      "Terry Rozier\n",
      "Marcus Smart\n",
      "Isaiah Thomas\n",
      "Jarrett Jack\n",
      "Shane Larkin\n",
      "Donald Sloan\n",
      "Jerian Grant\n",
      "Isaiah Canaan\n",
      "Kendall Marshall\n",
      "T.J. McConnell\n",
      "Ish Smith\n",
      "Cory Joseph\n",
      "Kyle Lowry\n",
      "Delon Wright\n",
      "Stephen Curry\n",
      "Chris Paul\n",
      "Austin Rivers\n",
      "Jordan Clarkson\n",
      "D'Angelo Russell\n",
      "Eric Bledsoe\n",
      "Brandon Knight\n",
      "Phil Pressey\n",
      "Ronnie Price\n",
      "Darren Collison\n",
      "Rajon Rondo\n",
      "Aaron Brooks\n",
      "Derrick Rose\n",
      "Matthew Dellavedova\n",
      "Kyrie Irving\n",
      "Mo Williams\n",
      "Steve Blake\n",
      "Lorenzo Brown\n",
      "Spencer Dinwiddie\n",
      "Reggie Jackson\n",
      "George Hill\n",
      "Ty Lawson\n",
      "Rodney Stuckey\n",
      "Joe Young\n",
      "Jerryd Bayless\n",
      "Michael Carter-Williams\n",
      "Tyler Ennis\n",
      "Greivis Vasquez\n",
      "J.J. Barea\n",
      "Raymond Felton\n",
      "Devin Harris\n",
      "Deron Williams\n",
      "Patrick Beverley\n",
      "Andrew Goudelock\n",
      "Mike Conley\n",
      "Bryce Cotton\n",
      "Jordan Farmar\n",
      "Ray McCallum\n",
      "Xavier Munford\n",
      "Norris Cole\n",
      "Toney Douglas\n",
      "Tim Frazier\n",
      "Jrue Holiday\n",
      "Andre Miller\n",
      "Patty Mills\n",
      "Jeff Teague\n",
      "Jorge Gutierrez\n",
      "Jeremy Lin\n",
      "Kemba Walker\n",
      "Briante Weber\n",
      "Shabazz Napier\n",
      "Elfrid Payton\n",
      "C.J. Watson\n",
      "Ramon Sessions\n",
      "John Wall\n",
      "D.J. Augustin\n",
      "Jameer Nelson\n",
      "Tyus Jones\n",
      "Zach LaVine\n",
      "Cameron Payne\n",
      "Russell Westbrook\n",
      "Damian Lillard\n",
      "Brian Roberts\n",
      "Trey Burke\n",
      "Shelvin Mack\n",
      "\n",
      "\n",
      "Employees in  SF position :\n",
      "\t\n",
      "Jae Crowder\n",
      "Carmelo Anthony\n",
      "Cleanthony Early\n",
      "Lance Thomas\n",
      "Robert Covington\n",
      "Jerami Grant\n",
      "DeMarre Carroll\n",
      "Terrence Ross\n",
      "Harrison Barnes\n",
      "Andre Iguodala\n",
      "Kevon Looney\n",
      "James Michael McAdoo\n",
      "Brandon Rush\n",
      "Branden Dawson\n",
      "Jeff Green\n",
      "Wesley Johnson\n",
      "Paul Pierce\n",
      "Anthony Brown\n",
      "Metta World Peace\n",
      "Nick Young\n",
      "Chase Budinger\n",
      "P.J. Tucker\n",
      "T.J. Warren\n",
      "Quincy Acy\n",
      "Caron Butler\n",
      "Rudy Gay\n",
      "Doug McDermott\n",
      "Tony Snell\n",
      "Richard Jefferson\n",
      "Reggie Bullock\n",
      "Tobias Harris\n",
      "Darrun Hilliard\n",
      "Stanley Johnson\n",
      "Paul George\n",
      "Solomon Hill\n",
      "Steve Novak\n",
      "Jeremy Evans\n",
      "Chandler Parsons\n",
      "Trevor Ariza\n",
      "Michael Beasley\n",
      "Sam Dekker\n",
      "Matt Barnes\n",
      "P.J. Hairston\n",
      "Lance Stephenson\n",
      "Luke Babbitt\n",
      "James Ennis\n",
      "Alonzo Gee\n",
      "Quincy Pondexter\n",
      "Kyle Anderson\n",
      "Kawhi Leonard\n",
      "Kent Bazemore\n",
      "Michael Kidd-Gilchrist\n",
      "Luol Deng\n",
      "Joe Johnson\n",
      "Justise Winslow\n",
      "Devyn Marble\n",
      "Jared Dudley\n",
      "Kelly Oubre Jr.\n",
      "Otto Porter Jr.\n",
      "Marcus Thornton\n",
      "Will Barton\n",
      "Wilson Chandler\n",
      "Shabazz Muhammad\n",
      "Tayshaun Prince\n",
      "Kevin Durant\n",
      "Josh Huestis\n",
      "Kyle Singler\n",
      "Al-Farouq Aminu\n",
      "Maurice Harkless\n",
      "Gordon Hayward\n",
      "Chris Johnson\n",
      "\n",
      "\n",
      "Employees in  SG position :\n",
      "\t\n",
      "John Holland\n",
      "R.J. Hunter\n",
      "Evan Turner\n",
      "James Young\n",
      "Markel Brown\n",
      "Wayne Ellington\n",
      "Rondae Hollis-Jefferson\n",
      "Sean Kilpatrick\n",
      "Arron Afflalo\n",
      "Langston Galloway\n",
      "Tony Wroten\n",
      "Nik Stauskas\n",
      "Hollis Thompson\n",
      "DeMar DeRozan\n",
      "Norman Powell\n",
      "Ian Clark\n",
      "Klay Thompson\n",
      "Jamal Crawford\n",
      "JJ Redick\n",
      "C.J. Wilcox\n",
      "Devin Booker\n",
      "Archie Goodwin\n",
      "John Jenkins\n",
      "James Anderson\n",
      "Seth Curry\n",
      "Ben McLemore\n",
      "Jimmy Butler\n",
      "Mike Dunleavy\n",
      "Justin Holiday\n",
      "E'Twaun Moore\n",
      "Dahntay Jones\n",
      "James Jones\n",
      "Jordan McRae\n",
      "Iman Shumpert\n",
      "Kentavious Caldwell-Pope\n",
      "Jodie Meeks\n",
      "Glenn Robinson III\n",
      "Jared Cunningham\n",
      "O.J. Mayo\n",
      "Khris Middleton\n",
      "Rashad Vaughn\n",
      "Justin Anderson\n",
      "Wesley Matthews\n",
      "Corey Brewer\n",
      "James Harden\n",
      "K.J. McDaniels\n",
      "Jason Terry\n",
      "Jordan Adams\n",
      "Tony Allen\n",
      "Vince Carter\n",
      "Bryce Dejean-Jones\n",
      "Tyreke Evans\n",
      "Eric Gordon\n",
      "Jordan Hamilton\n",
      "Orlando Johnson\n",
      "Danny Green\n",
      "Kevin Martin\n",
      "Jonathon Simmons\n",
      "Tim Hardaway Jr.\n",
      "Kirk Hinrich\n",
      "Kyle Korver\n",
      "Lamar Patterson\n",
      "Troy Daniels\n",
      "Aaron Harrison\n",
      "Jeremy Lamb\n",
      "Courtney Lee\n",
      "Tyler Johnson\n",
      "Josh Richardson\n",
      "Dwyane Wade\n",
      "Victor Oladipo\n",
      "Alan Anderson\n",
      "Bradley Beal\n",
      "Jarell Eddie\n",
      "Garrett Temple\n",
      "Gary Harris\n",
      "Mike Miller\n",
      "JaKarr Sampson\n",
      "Andrew Wiggins\n",
      "Randy Foye\n",
      "Anthony Morrow\n",
      "Andre Roberson\n",
      "Dion Waiters\n",
      "Pat Connaughton\n",
      "Allen Crabbe\n",
      "Gerald Henderson\n",
      "C.J. McCollum\n",
      "Luis Montero\n",
      "Alec Burks\n",
      "Rodney Hood\n",
      "\n",
      "\n"
     ]
    }
   ],
   "source": [
    "employees = dataset.groupby('Position')['Name'].apply(list)\n",
    "for pos, name in employees.items():\n",
    "    print('Employees in ', pos, 'position :')\n",
    "    print(\"\\t\")\n",
    "    for name in name:\n",
    "        print(name)\n",
    "    print(\"\\n\")\n",
    "     "
   ]
  },
  {
   "cell_type": "markdown",
   "id": "52c4108c-7903-4421-b351-0562d4922a42",
   "metadata": {},
   "source": [
    "***Visual representation of position an corresponding number of employees***"
   ]
  },
  {
   "cell_type": "code",
   "execution_count": 93,
   "id": "bdf1dc8e-0f98-428e-aeef-ddf3d7295219",
   "metadata": {},
   "outputs": [
    {
     "data": {
      "image/png": "[encoded data removed]",
      "text/plain": [
       "<Figure size 640x480 with 1 Axes>"
      ]
     },
     "metadata": {},
     "output_type": "display_data"
    }
   ],
   "source": [
    "b=dataset['Position'].value_counts()\n",
    "pos=[\"SG\",\"PF\",\"PG\",\"SF\",\"C\"]\n",
    "plt.bar(range(0,5),b)\n",
    "plt.xticks(range(0,5),pos)\n",
    "plt.ylabel(\"Position of employee\")\n",
    "plt.xlabel(\"Total number of employees in position\")\n",
    "plt.title(\"Relation between Position and Number of employees\")          \n",
    "plt.show()"
   ]
  },
  {
   "cell_type": "markdown",
   "id": "98b486a0-c9c7-4d6a-8338-5c94791854a4",
   "metadata": {},
   "source": [
    "Data story:\n",
    "      While segregating employees based on their position in company, more than 85 employees are in SG position.The least number of employees are in C position."
   ]
  },
  {
   "cell_type": "markdown",
   "id": "ab227a0b-ac69-4e68-bbcb-650079f7e3de",
   "metadata": {},
   "source": [
    "3. <u> **Identify the predominant age group among employees.**</u>"
   ]
  },
  {
   "cell_type": "code",
   "execution_count": 50,
   "id": "aeccac2c-2c5f-48b4-84d6-f064edf29197",
   "metadata": {},
   "outputs": [
    {
     "name": "stdout",
     "output_type": "stream",
     "text": [
      "              Name            Team  Number Position  Age      Height  Weight  \\\n",
      "0    Avery Bradley  Boston Celtics       0       PG   25  153.389528     180   \n",
      "1      Jae Crowder  Boston Celtics      99       SF   25  160.773179     235   \n",
      "2     John Holland  Boston Celtics      30       SG   27  170.574159     205   \n",
      "3      R.J. Hunter  Boston Celtics      28       SG   22  150.521512     185   \n",
      "6    Jordan Mickey  Boston Celtics      55       PF   21  164.644970     235   \n",
      "..             ...             ...     ...      ...  ...         ...     ...   \n",
      "451  Chris Johnson       Utah Jazz      23       SF   26  152.797437     206   \n",
      "452     Trey Lyles       Utah Jazz      41       PF   20  151.650823     234   \n",
      "453   Shelvin Mack       Utah Jazz       8       PG   26  167.154810     203   \n",
      "456    Jeff Withey       Utah Jazz      24        C   26  160.230681     231   \n",
      "457       Priyanka       Utah Jazz      34        C   25  171.864962     231   \n",
      "\n",
      "               College        Salary Age Group  \n",
      "0                Texas  7.730337e+06     20-25  \n",
      "1            Marquette  6.796117e+06     20-25  \n",
      "2    Boston University  4.833970e+06     26-30  \n",
      "3        Georgia State  1.148640e+06     20-25  \n",
      "6                  LSU  1.170960e+06     20-25  \n",
      "..                 ...           ...       ...  \n",
      "451             Dayton  9.813480e+05     26-30  \n",
      "452           Kentucky  2.239800e+06     20-25  \n",
      "453             Butler  2.433333e+06     26-30  \n",
      "456             Kansas  9.472760e+05     26-30  \n",
      "457             Kansas  9.472760e+05     20-25  \n",
      "\n",
      "[374 rows x 10 columns]\n"
     ]
    },
    {
     "data": {
      "text/plain": [
       "Age Group\n",
       "20-25           172\n",
       "26-30           134\n",
       "31-35            49\n",
       "36 and above     19\n",
       "Name: count, dtype: int64"
      ]
     },
     "execution_count": 50,
     "metadata": {},
     "output_type": "execute_result"
    }
   ],
   "source": [
    "dataset['Age Group'] = dataset['Age'].apply(lambda age:'20-25' if 20 <= age <= 25 else ('26-30' if 26 <= age <= 30 else ('31-35' if 31 <= age <= 35 else '36 and above')))\n",
    "print(dataset)\n",
    "dataset['Age Group'].value_counts()"
   ]
  },
  {
   "cell_type": "markdown",
   "id": "621be8e0-e06b-4dc7-8218-20cd0e78796b",
   "metadata": {},
   "source": [
    "Visual representation using pie chart:-"
   ]
  },
  {
   "cell_type": "code",
   "execution_count": 84,
   "id": "ff6b6af5-b83a-42b2-8889-0b3a86212db0",
   "metadata": {},
   "outputs": [
    {
     "data": {
      "image/png": "[encoded data removed]",
      "text/plain": [
       "<Figure size 640x480 with 1 Axes>"
      ]
     },
     "metadata": {},
     "output_type": "display_data"
    }
   ],
   "source": [
    "label=[\"20-25\",\"26-30\",\"31-35\",\">36\"]\n",
    "y=dataset['Age Group'].value_counts()\n",
    "plt.pie(y,labels=label)\n",
    "plt.legend(title=\"Age groups\")\n",
    "plt.show()\n"
   ]
  },
  {
   "cell_type": "code",
   "execution_count": null,
   "id": "41311c61-20a7-41b1-9832-273640c679c1",
   "metadata": {},
   "outputs": [],
   "source": [
    "Data story:\n",
    "  Most of the employees are within 20-25 range.The company prefers most younger employees for their teams.Out of total employees , \n",
    "only 19 belong to age group 36 and above.So the keytrend is as age increases number of employees decreases.So the predominant age group is 20-25."
   ]
  },
  {
   "cell_type": "markdown",
   "id": "10b006a8-aee9-460e-82c1-88650c4e9d0b",
   "metadata": {},
   "source": [
    "4. <u> **Discover which team and position have the highest salary expenditure.**</u>"
   ]
  },
  {
   "cell_type": "code",
   "execution_count": 95,
   "id": "7649e80d-daa4-43c7-a92c-05dd33afb9e3",
   "metadata": {},
   "outputs": [
    {
     "data": {
      "text/plain": [
       "('Miami Heat', 'PF')"
      ]
     },
     "execution_count": 95,
     "metadata": {},
     "output_type": "execute_result"
    }
   ],
   "source": [
    "salary_exp = dataset.groupby(['Team','Position'])['Salary'].sum()\n",
    "salary_exp.idxmax()"
   ]
  },
  {
   "cell_type": "markdown",
   "id": "101b6bad-fb71-4d41-b0d8-db31ea8df587",
   "metadata": {},
   "source": [
    "***Visual representation of team and position with high salary***"
   ]
  },
  {
   "cell_type": "code",
   "execution_count": 119,
   "id": "c4f2bd28-4128-492b-af28-73f58c577c58",
   "metadata": {},
   "outputs": [
    {
     "data": {
      "image/png": "[encoded data removed]",
      "text/plain": [
       "<Figure size 640x480 with 1 Axes>"
      ]
     },
     "metadata": {},
     "output_type": "display_data"
    }
   ],
   "source": [
    "\n",
    "sns.barplot(data=dataset,x='Team',y='Salary',hue='Position',capsize=0.09)\n",
    "plt.xlim(0,6)\n",
    "x=np.linspace(0,25)\n",
    "plt.show()"
   ]
  },
  {
   "cell_type": "code",
   "execution_count": null,
   "id": "8cb4722c-abb3-4a6c-87d4-861401256cf0",
   "metadata": {},
   "outputs": [],
   "source": [
    "Data story:\n",
    "       Miami Heat is the team and positionPF  has the highest salary expenditure"
   ]
  },
  {
   "cell_type": "markdown",
   "id": "66c9d802-4bbd-4153-930b-9cb06a087922",
   "metadata": {},
   "source": [
    "5. <u> **Investigate if there's any correlation between age and salary, and represent it visually.**</u>"
   ]
  },
  {
   "cell_type": "code",
   "execution_count": 53,
   "id": "558314a7-2635-4354-8b86-82b4328dff08",
   "metadata": {},
   "outputs": [
    {
     "name": "stdout",
     "output_type": "stream",
     "text": [
      "The correlation between Salary and Age is : 0.1577511450552259\n"
     ]
    }
   ],
   "source": [
    "relation = dataset['Salary'].corr(dataset['Age'])\n",
    "if relation!=1:\n",
    "    print('The correlation between Salary and Age is :',relation)\n",
    "else:\n",
    "    print('There is no correlation between Salary and Age')\n"
   ]
  },
  {
   "cell_type": "code",
   "execution_count": 56,
   "id": "999e4df9-ed91-4879-844f-f4108347fc96",
   "metadata": {},
   "outputs": [
    {
     "name": "stdout",
     "output_type": "stream",
     "text": [
      "\n",
      "\n"
     ]
    },
    {
     "data": {
      "image/png": "[encoded data removed]",
      "text/plain": [
       "<Figure size 640x480 with 1 Axes>"
      ]
     },
     "metadata": {},
     "output_type": "display_data"
    }
   ],
   "source": [
    "sns.scatterplot(x=\"Age\" ,y= \"Salary\",data= dataset)\n",
    "plt.ylabel(\"Salary\")\n",
    "plt.xlabel(\"Age\")\n",
    "plt.title(\"Correlation b/w Salary and Age\")\n",
    "print(\"\\n\")\n",
    "plt.show()"
   ]
  },
  {
   "cell_type": "markdown",
   "id": "d9266e5c-0733-4e05-b812-06cdfcf461f0",
   "metadata": {},
   "source": [
    "Insights  from scatter plot:\n",
    "        There exists a positive correlation between salary and age of employees.However it is not a linear relationship.Employees ranging from age of 20 - 30 get more common salary. As from this plot we can assume that there is no hike in salary according to age or experience."
   ]
  }
 ],
 "metadata": {
  "kernelspec": {
   "display_name": "Python 3 (ipykernel)",
   "language": "python",
   "name": "python3"
  },
  "language_info": {
   "codemirror_mode": {
    "name": "ipython",
    "version": 3
   },
   "file_extension": ".py",
   "mimetype": "text/x-python",
   "name": "python",
   "nbconvert_exporter": "python",
   "pygments_lexer": "ipython3",
   "version": "3.12.1"
  }
 },
 "nbformat": 4,
 "nbformat_minor": 5
}
